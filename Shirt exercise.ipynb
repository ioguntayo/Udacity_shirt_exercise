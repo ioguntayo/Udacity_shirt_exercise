{
 "cells": [
  {
   "cell_type": "code",
   "execution_count": 47,
   "id": "2890f2b2",
   "metadata": {},
   "outputs": [],
   "source": [
    "class Shirt:   \n",
    "    def __init__(self, shirt_color, shirt_size, shirt_style, shirt_price):\n",
    "        self.color = shirt_color\n",
    "        self.style = shirt_style\n",
    "        self.size = shirt_size\n",
    "        self.price = shirt_price\n",
    "\n",
    "        \n",
    "    def change_price(self, new_price):\n",
    "        self.price = new_price\n",
    "    \n",
    "    def discount(self, discount):\n",
    "       return self.price * (1 - discount)\n"
   ]
  },
  {
   "cell_type": "code",
   "execution_count": 70,
   "id": "c7bb5fab",
   "metadata": {},
   "outputs": [],
   "source": [
    "shirt_one = Shirt(\"red\", \"S\", \"Long sleeve\", 25 )"
   ]
  },
  {
   "cell_type": "code",
   "execution_count": 81,
   "id": "3f4d03ea",
   "metadata": {},
   "outputs": [
    {
     "data": {
      "text/plain": [
       "8.8"
      ]
     },
     "execution_count": 81,
     "metadata": {},
     "output_type": "execute_result"
    }
   ],
   "source": [
    "shirt_one.price\n",
    "shirt_one.change_price(10)\n",
    "shirt_one.price\n",
    "shirt_one.discount(0.12)"
   ]
  },
  {
   "cell_type": "code",
   "execution_count": 58,
   "id": "6971dfe2",
   "metadata": {},
   "outputs": [],
   "source": [
    "shirt_two = Shirt('orange', 'L', 'short sleeve', 10)"
   ]
  },
  {
   "cell_type": "code",
   "execution_count": 82,
   "id": "6d49bf3d",
   "metadata": {},
   "outputs": [],
   "source": [
    "total = shirt_one.price + shirt_two.price"
   ]
  },
  {
   "cell_type": "code",
   "execution_count": 83,
   "id": "014252f2",
   "metadata": {},
   "outputs": [],
   "source": [
    "total_discount = shirt_one.discount(.14) + shirt_two.discount(.6)"
   ]
  },
  {
   "cell_type": "code",
   "execution_count": 85,
   "id": "74668b65",
   "metadata": {},
   "outputs": [],
   "source": [
    "def run_tests(shirt_one, shirt_two, total_cost, total_discount):\n",
    " \n",
    "    # Unit tests to check your solution\n",
    "    assert shirt_one.price == 10, 'shirt_one price should be 10'\n",
    "    assert shirt_one.color == 'red', ' shirt_one should be red'\n",
    "    assert shirt_one.style == 'long-sleeve', 'shirt_one should be long_sleeve style'\n",
    "    assert shirt_one.size == 'S', 'shirt_one size should be S'\n",
    "\n",
    "    assert shirt_two.price == 10, 'shirt_two price should be 10'\n",
    "    assert shirt_two.color == 'orange', 'shirt_two should be orange'\n",
    "    assert shirt_two.style == 'short-sleeve', 'shirt_two should be short_sleeve style'\n",
    "    assert shirt_two.size == 'L', 'shirt_two size should be L'\n",
    "\n",
    "    assert total_cost == 20, 'the total_cost of both shirts should be 20'\n",
    "    \n",
    "    assert round(total_discount) == 18, 'total_discount should be 18.0'"
   ]
  },
  {
   "cell_type": "code",
   "execution_count": null,
   "id": "be23dc64",
   "metadata": {},
   "outputs": [],
   "source": []
  }
 ],
 "metadata": {
  "kernelspec": {
   "display_name": "Python 3 (ipykernel)",
   "language": "python",
   "name": "python3"
  },
  "language_info": {
   "codemirror_mode": {
    "name": "ipython",
    "version": 3
   },
   "file_extension": ".py",
   "mimetype": "text/x-python",
   "name": "python",
   "nbconvert_exporter": "python",
   "pygments_lexer": "ipython3",
   "version": "3.9.12"
  }
 },
 "nbformat": 4,
 "nbformat_minor": 5
}
